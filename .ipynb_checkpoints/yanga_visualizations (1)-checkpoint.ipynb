{
 "cells": [
  {
   "cell_type": "code",
   "execution_count": 1,
   "metadata": {},
   "outputs": [],
   "source": [
    "import numpy as np\n",
    "import pandas as pd\n",
    "import matplotlib.pyplot as plt\n",
    "import seaborn as sns"
   ]
  },
  {
   "cell_type": "code",
   "execution_count": 2,
   "metadata": {},
   "outputs": [
    {
     "ename": "FileNotFoundError",
     "evalue": "[Errno 2] File b'training.csv' does not exist: b'training.csv'",
     "output_type": "error",
     "traceback": [
      "\u001b[0;31m---------------------------------------------------------------------------\u001b[0m",
      "\u001b[0;31mFileNotFoundError\u001b[0m                         Traceback (most recent call last)",
      "\u001b[0;32m<ipython-input-2-79a3eb30475f>\u001b[0m in \u001b[0;36m<module>\u001b[0;34m\u001b[0m\n\u001b[0;32m----> 1\u001b[0;31m \u001b[0mtraining\u001b[0m  \u001b[0;34m=\u001b[0m \u001b[0mpd\u001b[0m\u001b[0;34m.\u001b[0m\u001b[0mread_csv\u001b[0m\u001b[0;34m(\u001b[0m\u001b[0;34m'training.csv'\u001b[0m\u001b[0;34m)\u001b[0m\u001b[0;34m\u001b[0m\u001b[0;34m\u001b[0m\u001b[0m\n\u001b[0m",
      "\u001b[0;32m~/.local/lib/python3.6/site-packages/pandas/io/parsers.py\u001b[0m in \u001b[0;36mparser_f\u001b[0;34m(filepath_or_buffer, sep, delimiter, header, names, index_col, usecols, squeeze, prefix, mangle_dupe_cols, dtype, engine, converters, true_values, false_values, skipinitialspace, skiprows, skipfooter, nrows, na_values, keep_default_na, na_filter, verbose, skip_blank_lines, parse_dates, infer_datetime_format, keep_date_col, date_parser, dayfirst, cache_dates, iterator, chunksize, compression, thousands, decimal, lineterminator, quotechar, quoting, doublequote, escapechar, comment, encoding, dialect, error_bad_lines, warn_bad_lines, delim_whitespace, low_memory, memory_map, float_precision)\u001b[0m\n\u001b[1;32m    683\u001b[0m         )\n\u001b[1;32m    684\u001b[0m \u001b[0;34m\u001b[0m\u001b[0m\n\u001b[0;32m--> 685\u001b[0;31m         \u001b[0;32mreturn\u001b[0m \u001b[0m_read\u001b[0m\u001b[0;34m(\u001b[0m\u001b[0mfilepath_or_buffer\u001b[0m\u001b[0;34m,\u001b[0m \u001b[0mkwds\u001b[0m\u001b[0;34m)\u001b[0m\u001b[0;34m\u001b[0m\u001b[0;34m\u001b[0m\u001b[0m\n\u001b[0m\u001b[1;32m    686\u001b[0m \u001b[0;34m\u001b[0m\u001b[0m\n\u001b[1;32m    687\u001b[0m     \u001b[0mparser_f\u001b[0m\u001b[0;34m.\u001b[0m\u001b[0m__name__\u001b[0m \u001b[0;34m=\u001b[0m \u001b[0mname\u001b[0m\u001b[0;34m\u001b[0m\u001b[0;34m\u001b[0m\u001b[0m\n",
      "\u001b[0;32m~/.local/lib/python3.6/site-packages/pandas/io/parsers.py\u001b[0m in \u001b[0;36m_read\u001b[0;34m(filepath_or_buffer, kwds)\u001b[0m\n\u001b[1;32m    455\u001b[0m \u001b[0;34m\u001b[0m\u001b[0m\n\u001b[1;32m    456\u001b[0m     \u001b[0;31m# Create the parser.\u001b[0m\u001b[0;34m\u001b[0m\u001b[0;34m\u001b[0m\u001b[0;34m\u001b[0m\u001b[0m\n\u001b[0;32m--> 457\u001b[0;31m     \u001b[0mparser\u001b[0m \u001b[0;34m=\u001b[0m \u001b[0mTextFileReader\u001b[0m\u001b[0;34m(\u001b[0m\u001b[0mfp_or_buf\u001b[0m\u001b[0;34m,\u001b[0m \u001b[0;34m**\u001b[0m\u001b[0mkwds\u001b[0m\u001b[0;34m)\u001b[0m\u001b[0;34m\u001b[0m\u001b[0;34m\u001b[0m\u001b[0m\n\u001b[0m\u001b[1;32m    458\u001b[0m \u001b[0;34m\u001b[0m\u001b[0m\n\u001b[1;32m    459\u001b[0m     \u001b[0;32mif\u001b[0m \u001b[0mchunksize\u001b[0m \u001b[0;32mor\u001b[0m \u001b[0miterator\u001b[0m\u001b[0;34m:\u001b[0m\u001b[0;34m\u001b[0m\u001b[0;34m\u001b[0m\u001b[0m\n",
      "\u001b[0;32m~/.local/lib/python3.6/site-packages/pandas/io/parsers.py\u001b[0m in \u001b[0;36m__init__\u001b[0;34m(self, f, engine, **kwds)\u001b[0m\n\u001b[1;32m    893\u001b[0m             \u001b[0mself\u001b[0m\u001b[0;34m.\u001b[0m\u001b[0moptions\u001b[0m\u001b[0;34m[\u001b[0m\u001b[0;34m\"has_index_names\"\u001b[0m\u001b[0;34m]\u001b[0m \u001b[0;34m=\u001b[0m \u001b[0mkwds\u001b[0m\u001b[0;34m[\u001b[0m\u001b[0;34m\"has_index_names\"\u001b[0m\u001b[0;34m]\u001b[0m\u001b[0;34m\u001b[0m\u001b[0;34m\u001b[0m\u001b[0m\n\u001b[1;32m    894\u001b[0m \u001b[0;34m\u001b[0m\u001b[0m\n\u001b[0;32m--> 895\u001b[0;31m         \u001b[0mself\u001b[0m\u001b[0;34m.\u001b[0m\u001b[0m_make_engine\u001b[0m\u001b[0;34m(\u001b[0m\u001b[0mself\u001b[0m\u001b[0;34m.\u001b[0m\u001b[0mengine\u001b[0m\u001b[0;34m)\u001b[0m\u001b[0;34m\u001b[0m\u001b[0;34m\u001b[0m\u001b[0m\n\u001b[0m\u001b[1;32m    896\u001b[0m \u001b[0;34m\u001b[0m\u001b[0m\n\u001b[1;32m    897\u001b[0m     \u001b[0;32mdef\u001b[0m \u001b[0mclose\u001b[0m\u001b[0;34m(\u001b[0m\u001b[0mself\u001b[0m\u001b[0;34m)\u001b[0m\u001b[0;34m:\u001b[0m\u001b[0;34m\u001b[0m\u001b[0;34m\u001b[0m\u001b[0m\n",
      "\u001b[0;32m~/.local/lib/python3.6/site-packages/pandas/io/parsers.py\u001b[0m in \u001b[0;36m_make_engine\u001b[0;34m(self, engine)\u001b[0m\n\u001b[1;32m   1133\u001b[0m     \u001b[0;32mdef\u001b[0m \u001b[0m_make_engine\u001b[0m\u001b[0;34m(\u001b[0m\u001b[0mself\u001b[0m\u001b[0;34m,\u001b[0m \u001b[0mengine\u001b[0m\u001b[0;34m=\u001b[0m\u001b[0;34m\"c\"\u001b[0m\u001b[0;34m)\u001b[0m\u001b[0;34m:\u001b[0m\u001b[0;34m\u001b[0m\u001b[0;34m\u001b[0m\u001b[0m\n\u001b[1;32m   1134\u001b[0m         \u001b[0;32mif\u001b[0m \u001b[0mengine\u001b[0m \u001b[0;34m==\u001b[0m \u001b[0;34m\"c\"\u001b[0m\u001b[0;34m:\u001b[0m\u001b[0;34m\u001b[0m\u001b[0;34m\u001b[0m\u001b[0m\n\u001b[0;32m-> 1135\u001b[0;31m             \u001b[0mself\u001b[0m\u001b[0;34m.\u001b[0m\u001b[0m_engine\u001b[0m \u001b[0;34m=\u001b[0m \u001b[0mCParserWrapper\u001b[0m\u001b[0;34m(\u001b[0m\u001b[0mself\u001b[0m\u001b[0;34m.\u001b[0m\u001b[0mf\u001b[0m\u001b[0;34m,\u001b[0m \u001b[0;34m**\u001b[0m\u001b[0mself\u001b[0m\u001b[0;34m.\u001b[0m\u001b[0moptions\u001b[0m\u001b[0;34m)\u001b[0m\u001b[0;34m\u001b[0m\u001b[0;34m\u001b[0m\u001b[0m\n\u001b[0m\u001b[1;32m   1136\u001b[0m         \u001b[0;32melse\u001b[0m\u001b[0;34m:\u001b[0m\u001b[0;34m\u001b[0m\u001b[0;34m\u001b[0m\u001b[0m\n\u001b[1;32m   1137\u001b[0m             \u001b[0;32mif\u001b[0m \u001b[0mengine\u001b[0m \u001b[0;34m==\u001b[0m \u001b[0;34m\"python\"\u001b[0m\u001b[0;34m:\u001b[0m\u001b[0;34m\u001b[0m\u001b[0;34m\u001b[0m\u001b[0m\n",
      "\u001b[0;32m~/.local/lib/python3.6/site-packages/pandas/io/parsers.py\u001b[0m in \u001b[0;36m__init__\u001b[0;34m(self, src, **kwds)\u001b[0m\n\u001b[1;32m   1915\u001b[0m         \u001b[0mkwds\u001b[0m\u001b[0;34m[\u001b[0m\u001b[0;34m\"usecols\"\u001b[0m\u001b[0;34m]\u001b[0m \u001b[0;34m=\u001b[0m \u001b[0mself\u001b[0m\u001b[0;34m.\u001b[0m\u001b[0musecols\u001b[0m\u001b[0;34m\u001b[0m\u001b[0;34m\u001b[0m\u001b[0m\n\u001b[1;32m   1916\u001b[0m \u001b[0;34m\u001b[0m\u001b[0m\n\u001b[0;32m-> 1917\u001b[0;31m         \u001b[0mself\u001b[0m\u001b[0;34m.\u001b[0m\u001b[0m_reader\u001b[0m \u001b[0;34m=\u001b[0m \u001b[0mparsers\u001b[0m\u001b[0;34m.\u001b[0m\u001b[0mTextReader\u001b[0m\u001b[0;34m(\u001b[0m\u001b[0msrc\u001b[0m\u001b[0;34m,\u001b[0m \u001b[0;34m**\u001b[0m\u001b[0mkwds\u001b[0m\u001b[0;34m)\u001b[0m\u001b[0;34m\u001b[0m\u001b[0;34m\u001b[0m\u001b[0m\n\u001b[0m\u001b[1;32m   1918\u001b[0m         \u001b[0mself\u001b[0m\u001b[0;34m.\u001b[0m\u001b[0munnamed_cols\u001b[0m \u001b[0;34m=\u001b[0m \u001b[0mself\u001b[0m\u001b[0;34m.\u001b[0m\u001b[0m_reader\u001b[0m\u001b[0;34m.\u001b[0m\u001b[0munnamed_cols\u001b[0m\u001b[0;34m\u001b[0m\u001b[0;34m\u001b[0m\u001b[0m\n\u001b[1;32m   1919\u001b[0m \u001b[0;34m\u001b[0m\u001b[0m\n",
      "\u001b[0;32mpandas/_libs/parsers.pyx\u001b[0m in \u001b[0;36mpandas._libs.parsers.TextReader.__cinit__\u001b[0;34m()\u001b[0m\n",
      "\u001b[0;32mpandas/_libs/parsers.pyx\u001b[0m in \u001b[0;36mpandas._libs.parsers.TextReader._setup_parser_source\u001b[0;34m()\u001b[0m\n",
      "\u001b[0;31mFileNotFoundError\u001b[0m: [Errno 2] File b'training.csv' does not exist: b'training.csv'"
     ]
    }
   ],
   "source": [
    "training  = pd.read_csv('training.csv')"
   ]
  },
  {
   "cell_type": "code",
   "execution_count": null,
   "metadata": {},
   "outputs": [],
   "source": [
    "training.head()"
   ]
  },
  {
   "cell_type": "code",
   "execution_count": null,
   "metadata": {},
   "outputs": [],
   "source": [
    "training.describe(include='all').T"
   ]
  },
  {
   "cell_type": "code",
   "execution_count": null,
   "metadata": {},
   "outputs": [],
   "source": [
    "training.isnull().sum()"
   ]
  },
  {
   "cell_type": "code",
   "execution_count": null,
   "metadata": {},
   "outputs": [],
   "source": [
    "def ageBin(age):\n",
    "    if(age<26):\n",
    "        return '16-26'\n",
    "    elif(age>=25 and age< 36):\n",
    "        return '25-36'\n",
    "    elif(age>=35 and age< 46):\n",
    "        return '35-46'\n",
    "    elif(age>=46 and age< 56):\n",
    "        return '46-56'\n",
    "    elif(age>=56 and age< 66):\n",
    "        return '56-66'\n",
    "    elif(age>=66 and age< 76):\n",
    "        return '66-76'\n",
    "    elif(age>=76 and age< 86):\n",
    "        return '76-86'\n",
    "    else:\n",
    "        return '86<'\n",
    "\n",
    "training['age_bin'] = training.Q1.apply(ageBin)\n",
    "\n",
    "def gender(Q2):\n",
    "    if(Q2==1):\n",
    "        return 'Male'\n",
    "    else:\n",
    "        return 'Female'\n",
    "\n",
    "training['Gender'] = training.Q2.apply(gender)"
   ]
  },
  {
   "cell_type": "code",
   "execution_count": null,
   "metadata": {},
   "outputs": [],
   "source": [
    "plt.figure(figsize=(14,7))\n",
    "sns.barplot(training.mobile_money_classification.unique(),training.mobile_money_classification.value_counts(),data=training)\n",
    "plt.ylabel('Total Count of Mobile Money Classification Subcribers')\n",
    "plt.show()"
   ]
  },
  {
   "cell_type": "code",
   "execution_count": null,
   "metadata": {},
   "outputs": [],
   "source": [
    "plt.subplots(figsize=(16, 8))\n",
    "sns.barplot(training.age_bin.sort_values().unique(),training.groupby('age_bin').mobile_money_classification.count().sort_values(ascending=False),data=training)\n",
    "plt.title('\\nSubcribers Per Age Group(Mobile Money Classification)\\n',fontsize=20)\n",
    "plt.ylabel('Total Count)')\n",
    "plt.xlabel('AGE GROUPS')\n",
    "plt.show()"
   ]
  },
  {
   "cell_type": "code",
   "execution_count": null,
   "metadata": {},
   "outputs": [],
   "source": [
    "training.groupby(['age_bin','mobile_money_classification']).mobile_money_classification.count().plot(kind='bar',figsize=(14,7))\n",
    "plt.title('\\nSubcribers Per Age Group(Mobile Money Classification)\\n',fontsize=20)\n",
    "plt.ylabel('Total Count')\n",
    "plt.show()"
   ]
  },
  {
   "cell_type": "code",
   "execution_count": null,
   "metadata": {},
   "outputs": [],
   "source": [
    "plt.subplots(figsize=(16, 8))\n",
    "training[training.mobile_money==1].groupby('age_bin').mobile_money.count().sort_values(ascending=False).plot(kind='bar')\n",
    "plt.title('\\nSubcribers Per Age Group(Mobile Money)\\n',fontsize=20)\n",
    "plt.ylabel('Total Count)')\n",
    "plt.xlabel('AGE GROUPS')\n",
    "plt.xticks(rotation=0)\n",
    "plt.show()"
   ]
  },
  {
   "cell_type": "code",
   "execution_count": null,
   "metadata": {},
   "outputs": [],
   "source": [
    "plt.subplots(figsize=(16, 8))\n",
    "training[training.savings==1].groupby('age_bin').savings.count().sort_values(ascending=False).plot(kind='bar')\n",
    "plt.title('\\nSubcribers Per Age Group(Savings)\\n',fontsize=20)\n",
    "plt.ylabel('Total Count)')\n",
    "plt.xlabel('AGE GROUPS')\n",
    "plt.xticks(rotation=0)\n",
    "plt.show()"
   ]
  },
  {
   "cell_type": "code",
   "execution_count": null,
   "metadata": {},
   "outputs": [],
   "source": [
    "plt.subplots(figsize=(16, 8))\n",
    "training[training.borrowing==1].groupby('age_bin').borrowing.count().sort_values(ascending=False).plot(kind='bar')\n",
    "plt.title('\\nSubcribers Per Age Group(Borrowing)\\n',fontsize=20)\n",
    "plt.ylabel('Total Count)')\n",
    "plt.xlabel('AGE GROUPS')\n",
    "plt.xticks(rotation=0)\n",
    "plt.show()"
   ]
  },
  {
   "cell_type": "code",
   "execution_count": null,
   "metadata": {},
   "outputs": [],
   "source": [
    "plt.subplots(figsize=(16, 8))\n",
    "training[training.insurance==1].groupby('age_bin').insurance.count().sort_values(ascending=False).plot(kind='bar')\n",
    "plt.title('\\nSubcribers Per Age Group(Insurance)\\n',fontsize=20)\n",
    "plt.ylabel('Total Count)')\n",
    "plt.xlabel('AGE GROUPS')\n",
    "plt.xticks(rotation=0)\n",
    "plt.show()"
   ]
  },
  {
   "cell_type": "code",
   "execution_count": null,
   "metadata": {},
   "outputs": [],
   "source": [
    "\n",
    "plt.subplots(figsize=(16, 8))\n",
    "training[training.mobile_money_classification==0].groupby('age_bin').mobile_money_classification.count().sort_values(ascending=False).plot(kind='bar')\n",
    "plt.title('\\nSubcribers Per Age Group(No Mobile Money Classification)\\n',fontsize=20)\n",
    "plt.ylabel('Total Count)')\n",
    "plt.xlabel('AGE GROUPS')\n",
    "plt.xticks(rotation=0)\n",
    "plt.show()"
   ]
  },
  {
   "cell_type": "code",
   "execution_count": null,
   "metadata": {},
   "outputs": [],
   "source": [
    "training.groupby(['Gender','mobile_money_classification']).mobile_money_classification.count().plot(kind='bar',figsize=(14,7))\n",
    "plt.title('\\nSubcribers Per Gender(Mobile Money Classification)\\n',fontsize=20)\n",
    "plt.ylabel('Total Count')\n",
    "plt.show()"
   ]
  },
  {
   "cell_type": "code",
   "execution_count": null,
   "metadata": {},
   "outputs": [],
   "source": [
    "plt.subplots(figsize=(8, 8))\n",
    "training[training.mobile_money==1].groupby('Gender').mobile_money.count().sort_values(ascending=False).plot(kind='pie')\n",
    "plt.title('\\nMobile Money Subcribers Per Gender\\n',fontsize=20)\n",
    "plt.ylabel('Total Count)')\n",
    "plt.xlabel('Gender')\n",
    "plt.xticks(rotation=0)\n",
    "plt.show()"
   ]
  },
  {
   "cell_type": "code",
   "execution_count": null,
   "metadata": {},
   "outputs": [],
   "source": [
    "training.groupby(['Gender','mobile_money_classification']).mobile_money_classification.count().plot(kind='bar',figsize=(14,7))\n",
    "plt.title('\\nSubcribers Per Gender(Mobile Money Classification)\\n',fontsize=20)\n",
    "plt.ylabel('Total Count')\n",
    "plt.show()"
   ]
  },
  {
   "cell_type": "code",
   "execution_count": null,
   "metadata": {},
   "outputs": [],
   "source": [
    "\n",
    "plt.subplots(figsize=(8, 8))\n",
    "training[training.savings==1].groupby('Gender').savings.count().sort_values(ascending=False).plot(kind='pie')\n",
    "plt.title('\\nSavingsSubcribers Per Gender\\n',fontsize=20)\n",
    "plt.ylabel('Total Count)')\n",
    "plt.xlabel('Gender')\n",
    "plt.xticks(rotation=0)\n",
    "plt.show()\n",
    "\n",
    "\n",
    "\n"
   ]
  },
  {
   "cell_type": "code",
   "execution_count": null,
   "metadata": {},
   "outputs": [],
   "source": [
    "\n",
    "plt.subplots(figsize=(8, 8))\n",
    "training[training.borrowing==1].groupby('Gender').borrowing.count().sort_values(ascending=False).plot(kind='pie')\n",
    "plt.title('\\nCredit Subcribers Per Gender\\n',fontsize=20)\n",
    "plt.ylabel('Total Count)')\n",
    "plt.xlabel('Gender')\n",
    "plt.xticks(rotation=0)\n",
    "plt.show()\n"
   ]
  },
  {
   "cell_type": "code",
   "execution_count": null,
   "metadata": {},
   "outputs": [],
   "source": [
    "plt.subplots(figsize=(8, 8))\n",
    "training[training.insurance==1].groupby('Gender').insurance.count().sort_values(ascending=False).plot(kind='pie')\n",
    "plt.title('\\nInsurance Subcribers Per Gender\\n',fontsize=20)\n",
    "plt.ylabel('Total Count)')\n",
    "plt.xlabel('Gender')\n",
    "plt.xticks(rotation=0)\n",
    "plt.show()\n",
    "\n"
   ]
  },
  {
   "cell_type": "code",
   "execution_count": null,
   "metadata": {},
   "outputs": [],
   "source": [
    "training[training.insurance==1].groupby('Q2').count().sort_values(by='insurance',ascending=False).plot.pie(y='insurance', figsize=(5, 5))\n",
    "plt.title('\\nInsurance Subcribers Per Gender\\n',fontsize=20)\n",
    "plt.ylabel('Total Count)')\n",
    "plt.xlabel('Gender')\n",
    "plt.xticks(rotation=0)\n",
    "plt.show()\n"
   ]
  },
  {
   "cell_type": "code",
   "execution_count": null,
   "metadata": {},
   "outputs": [],
   "source": [
    "training.groupby(['Q3','mobile_money_classification']).mobile_money_classification.count().plot(kind='bar',figsize=(10,10))\n",
    "plt.title('\\nSubcribers Per Marital status(Mobile Money Classification)\\n',fontsize=20)\n",
    "plt.ylabel('Total Count')\n",
    "plt.show()"
   ]
  },
  {
   "cell_type": "code",
   "execution_count": null,
   "metadata": {
    "scrolled": false
   },
   "outputs": [],
   "source": [
    "plt.subplots(figsize=(8, 8))\n",
    "training[training.insurance==1].groupby('Q3').insurance.count().sort_values(ascending=False).plot(kind='pie')\n",
    "plt.title('\\nInsurance Subcribers Per Marital status\\n',fontsize=20)\n",
    "plt.ylabel('Total Count)')\n",
    "plt.xlabel('Marital status')\n",
    "plt.xticks(rotation=0)\n",
    "plt.show()\n",
    "\n",
    "plt.subplots(figsize=(8, 8))\n",
    "training[training.borrowing==1].groupby('Q3').borrowing.count().sort_values(ascending=False).plot(kind='pie')\n",
    "plt.title('\\nBorrowing Subcribers Per Marital status\\n',fontsize=20)\n",
    "plt.ylabel('Total Count)')\n",
    "plt.xlabel('Marital status')\n",
    "plt.xticks(rotation=0)\n",
    "plt.show()\n",
    "\n",
    "plt.subplots(figsize=(8, 8))\n",
    "training[training.mobile_money==1].groupby('Q3').mobile_money.count().sort_values(ascending=False).plot(kind='pie')\n",
    "plt.title('\\nMobile Money Subcribers Per Marital status\\n',fontsize=20)\n",
    "plt.ylabel('Total Count)')\n",
    "plt.xlabel('Marital status')\n",
    "plt.xticks(rotation=0)\n",
    "plt.show()\n",
    "\n",
    "plt.subplots(figsize=(8, 8))\n",
    "training[training.savings==1].groupby('Q3').savings.count().sort_values(ascending=False).plot(kind='pie')\n",
    "plt.title('\\nSavings Subcribers Per Marital status\\n',fontsize=20)\n",
    "plt.ylabel('Total Count)')\n",
    "plt.xlabel('Marital status')\n",
    "plt.xticks(rotation=0)\n",
    "plt.show()\n",
    "\n"
   ]
  },
  {
   "cell_type": "code",
   "execution_count": null,
   "metadata": {},
   "outputs": [],
   "source": [
    "plt.subplots(figsize=(12, 6))\n",
    "training[training.savings==1].groupby('Q6').savings.count().sort_values(ascending=False).plot(kind='bar')\n",
    "plt.title('\\nSavings Subcribers That Own Land\\n',fontsize=20)\n",
    "plt.ylabel('Total Count)')\n",
    "plt.xlabel('Land Ownership')\n",
    "plt.xticks(rotation=0)\n",
    "plt.show()\n",
    "\n",
    "plt.subplots(figsize=(12, 6))\n",
    "training[training.mobile_money==1].groupby('Q6').mobile_money.count().sort_values(ascending=False).plot(kind='bar')\n",
    "plt.title('\\nMobile Money Subcribers That Own Land\\n',fontsize=20)\n",
    "plt.ylabel('Total Count)')\n",
    "plt.xlabel('Land Ownership')\n",
    "plt.xticks(rotation=0)\n",
    "plt.show()\n",
    "\n",
    "plt.subplots(figsize=(12, 6))\n",
    "training[training.insurance==1].groupby('Q6').insurance.count().sort_values(ascending=False).plot(kind='bar')\n",
    "plt.title('\\nInsurance Subcribers That Own Land\\n',fontsize=20)\n",
    "plt.ylabel('Total Count)')\n",
    "plt.xlabel('Land Ownership')\n",
    "plt.xticks(rotation=0)\n",
    "plt.show()\n",
    "\n",
    "plt.subplots(figsize=(12, 6))\n",
    "training[training.borrowing==1].groupby('Q6').borrowing.count().sort_values(ascending=False).plot(kind='bar')\n",
    "plt.title('\\nCredit Subcribers That Own Land\\n',fontsize=20)\n",
    "plt.ylabel('Total Count)')\n",
    "plt.xlabel('Land Ownership')\n",
    "plt.xticks(rotation=0)\n",
    "plt.show()\n",
    "# borrowing\n",
    "# insurance"
   ]
  },
  {
   "cell_type": "code",
   "execution_count": null,
   "metadata": {},
   "outputs": [],
   "source": [
    "from geopy.geocoders import Nominatim\n",
    "import folium\n",
    "\n",
    "lat = -6.3728253 ; lon = 34.8924826\n",
    "Country_map = folium.Map(location=[lat, lon], zoom_start=7)"
   ]
  },
  {
   "cell_type": "code",
   "execution_count": null,
   "metadata": {},
   "outputs": [],
   "source": [
    "for lat, long, label in zip(training['Latitude'],training['Longitude'],'Q8_1'):\n",
    "    folium.CircleMarker(\n",
    "        [lat, long],\n",
    "        radius = 10,\n",
    "        color = 'green',\n",
    "        parse_htmtl=False\n",
    "    ).add_to(Country_map)\n",
    "Country_map\n"
   ]
  },
  {
   "cell_type": "code",
   "execution_count": null,
   "metadata": {},
   "outputs": [],
   "source": []
  }
 ],
 "metadata": {
  "kernelspec": {
   "display_name": "Python 3",
   "language": "python",
   "name": "python3"
  },
  "language_info": {
   "codemirror_mode": {
    "name": "ipython",
    "version": 3
   },
   "file_extension": ".py",
   "mimetype": "text/x-python",
   "name": "python",
   "nbconvert_exporter": "python",
   "pygments_lexer": "ipython3",
   "version": "3.6.8"
  }
 },
 "nbformat": 4,
 "nbformat_minor": 2
}
